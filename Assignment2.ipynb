{
 "cells": [
  {
   "cell_type": "code",
   "execution_count": 1,
   "metadata": {},
   "outputs": [],
   "source": [
    "##Write a Python Program to implement your own myreduce() function which works exactly like Python's built-in function reduce() "
   ]
  },
  {
   "cell_type": "code",
   "execution_count": 62,
   "metadata": {},
   "outputs": [
    {
     "name": "stdout",
     "output_type": "stream",
     "text": [
      "Result 15\n"
     ]
    }
   ],
   "source": [
    "def myreduce(fun1, sequence):\n",
    "    res = sequence[0]\n",
    "    for i in sequence[1:]:\n",
    "        res = fun1(res, i)\n",
    "    return res\n",
    "    \n",
    "def sum(x,y):\n",
    "    return x + y\n",
    "\n",
    "numbers=[1,2,3,4,5]\n",
    "\n",
    "print (\"Result : \"+ str(myreduce(sum, numbers)) )"
   ]
  },
  {
   "cell_type": "code",
   "execution_count": 2,
   "metadata": {},
   "outputs": [],
   "source": [
    "##Write a Python program to implement your own myfilter() function which works exactly like Python's built-in function filter() "
   ]
  },
  {
   "cell_type": "code",
   "execution_count": 67,
   "metadata": {},
   "outputs": [
    {
     "name": "stdout",
     "output_type": "stream",
     "text": [
      "Result : [4, 8]\n"
     ]
    }
   ],
   "source": [
    "def myfilter(fun1, sequence):\n",
    "    result = []\n",
    "    for i in sequence:\n",
    "        if fun1(i):\n",
    "            result.append(i)\n",
    "    return result\n",
    "    \n",
    "\n",
    "def iseven(x):\n",
    "    return True if x%2==0 else False\n",
    "\n",
    "numbers =[1,5,7,4,8]\n",
    "res =str(myfilter(iseven, numbers))\n",
    "\n",
    "print(\"Result : \"+res)"
   ]
  },
  {
   "cell_type": "code",
   "execution_count": 3,
   "metadata": {},
   "outputs": [],
   "source": [
    "##Implement List comprehensions to produce the following lists. \n",
    "##Write List comprehensions to produce the following Lists "
   ]
  },
  {
   "cell_type": "code",
   "execution_count": 8,
   "metadata": {},
   "outputs": [
    {
     "name": "stdout",
     "output_type": "stream",
     "text": [
      "['A', 'C', 'A', 'D', 'G', 'I', 'L', 'D']\n"
     ]
    }
   ],
   "source": [
    "##1. ['A', 'C', 'A', 'D', 'G', 'I', ’L’, ‘ D’] \n",
    "\n",
    "sentence = \"ACADGILD\"\n",
    "L = [ i for i in sentence ]\n",
    "print (str(L))\n"
   ]
  },
  {
   "cell_type": "code",
   "execution_count": 9,
   "metadata": {},
   "outputs": [
    {
     "name": "stdout",
     "output_type": "stream",
     "text": [
      "['x', 'xx', 'xxx', 'xxxx', 'y', 'yy', 'yyy', 'yyyy', 'z', 'zz', 'zzz', 'zzzz']\n"
     ]
    }
   ],
   "source": [
    "## 2. ['x', 'xx', 'xxx', 'xxxx', 'y', 'yy', 'yyy', 'yyyy', 'z', 'zz', 'zzz', 'zzzz'] \n",
    "\n",
    "input_list = ['x','y','z']\n",
    "res = [ i*num for i in input_list for num in range(1,5)  ]\n",
    "print(str(res))\n"
   ]
  },
  {
   "cell_type": "code",
   "execution_count": 10,
   "metadata": {},
   "outputs": [
    {
     "name": "stdout",
     "output_type": "stream",
     "text": [
      "['x', 'y', 'z', 'xx', 'yy', 'zz', 'xxx', 'yyy', 'zzz', 'xxxx', 'yyyy', 'zzzz']\n"
     ]
    }
   ],
   "source": [
    "## 3. ['x', 'y', 'z', 'xx', 'yy', 'zz', 'xx', 'yy', 'zz', 'xxxx', 'yyyy', 'zzzz'] \n",
    "\n",
    "input_list = ['x','y','z']\n",
    "res = [ i*num for num in range(1,5) for i in input_list  ]\n",
    "print(str(res))"
   ]
  },
  {
   "cell_type": "code",
   "execution_count": 19,
   "metadata": {},
   "outputs": [
    {
     "name": "stdout",
     "output_type": "stream",
     "text": [
      "[[2], [3], [4], [3], [4], [5], [4], [5], [6]]\n",
      "[[2], [3], [4], [3], [4], [5], [4], [5], [6]]\n"
     ]
    }
   ],
   "source": [
    "## 4. [[2], [3], [4], [3], [4], [5], [4], [5], [6]] \n",
    "\n",
    "digits =[1,2,3,4,5,6]\n",
    "\n",
    "l1=[]\n",
    "for i in [1,2,3]:\n",
    "    for j in digits[i:i+3]:\n",
    "       l1.append([j])\n",
    "print(l1)\n",
    "\n",
    "\n",
    "res= [[i+num] for i in [2,3,4] for num in range(0,3)]\n",
    "print(res)\n"
   ]
  },
  {
   "cell_type": "code",
   "execution_count": 20,
   "metadata": {},
   "outputs": [
    {
     "name": "stdout",
     "output_type": "stream",
     "text": [
      "[[2, 3, 4, 5], [3, 4, 5, 6], [4, 5, 6, 7], [5, 6, 7, 8]]\n"
     ]
    }
   ],
   "source": [
    "## 5. [[2, 3, 4, 5], [3, 4, 5, 6], [4, 5, 6, 7], [5, 6, 7, 8]] \n",
    " \n",
    "\n",
    "digits =[1,2,3,4,5,6,7,8]\n",
    "\n",
    "\n",
    "l2=[digits[x:x+4] for x in digits[:4] ]\n",
    "print(l2)"
   ]
  },
  {
   "cell_type": "code",
   "execution_count": 21,
   "metadata": {
    "scrolled": true
   },
   "outputs": [
    {
     "name": "stdout",
     "output_type": "stream",
     "text": [
      "[(1, 1), (2, 1), (3, 1), (1, 2), (2, 2), (3, 2), (1, 3), (2, 3), (3, 3)]\n"
     ]
    }
   ],
   "source": [
    "##[(1, 1), (2, 1), (3, 1), (1, 2), (2, 2), (3, 2), (1, 3), (2, 3), (3, 3)] \n",
    "\n",
    "digits =[1,2,3]\n",
    "\n",
    "T1 = [ (i,j) for j in digits for i in digits]\n",
    "print(T1)"
   ]
  },
  {
   "cell_type": "code",
   "execution_count": 22,
   "metadata": {},
   "outputs": [],
   "source": [
    "##Implement a function longestWord() that takes a list of words and returns the longest one. "
   ]
  },
  {
   "cell_type": "code",
   "execution_count": 108,
   "metadata": {},
   "outputs": [
    {
     "name": "stdout",
     "output_type": "stream",
     "text": [
      "Servicenow\n"
     ]
    }
   ],
   "source": [
    "def longestword(words_list):\n",
    "    res = []\n",
    "    for i in words_list:\n",
    "        res.append((len(i), i))\n",
    "    res.sort()\n",
    "    return res[-1][1]\n",
    "\n",
    "\n",
    "words=[\"BPM\", \"Servicenow\", \"Marketing\",\"Java\"]\n",
    "print(longestword(words))"
   ]
  },
  {
   "cell_type": "markdown",
   "metadata": {},
   "source": [
    "##Write a Python Program(with class concepts) to find the area of the triangle using the below formula. \n",
    "##area = (s*(s-a)*(s-b)*(s-c)) ** 0.5 \n",
    "##Function to take the length of the sides of triangle from user should be defined in the parent class and function to calculate the area should be defined in subclass."
   ]
  },
  {
   "cell_type": "code",
   "execution_count": 107,
   "metadata": {},
   "outputs": [
    {
     "name": "stdout",
     "output_type": "stream",
     "text": [
      "Enter side 1: 4\n",
      "Enter side 2: 5\n",
      "Enter side 3: 6\n",
      "Area of triangle is: 9.921567416492215\n"
     ]
    }
   ],
   "source": [
    " \n",
    "class Shape():\n",
    "    def __init__(self, no_of_sides):\n",
    "        self.no_of_sides = no_of_sides\n",
    "        self.side_measures = [0 for i in range(no_of_sides)]\n",
    "        \n",
    "    def get_sides(self):\n",
    "        for i in range(self.no_of_sides):\n",
    "            self.side_measures[i] = int(input(f'Enter side {i+1}: '))\n",
    "        \n",
    "\n",
    "class Triangle(Shape):\n",
    "    def __init__(self):\n",
    "        Shape.__init__(self, 3)\n",
    "        \n",
    "    def calculate_s(self):\n",
    "        self.side_a, self.side_b, self.side_c = self.side_measures\n",
    "        return ((self.side_a + self.side_b + self.side_c) / 2)\n",
    "        \n",
    "    def calculate_area(self):\n",
    "        s = self.calculate_s()\n",
    "        return (s * (s-self.side_a) * (s-self.side_b) * (s-self.side_c)) ** 0.5\n",
    "    \n",
    "triangle1 = Triangle()\n",
    "triangle1.get_sides()\n",
    "print(f'Area of triangle is: {triangle1.calculate_area()}')"
   ]
  },
  {
   "cell_type": "code",
   "execution_count": null,
   "metadata": {},
   "outputs": [],
   "source": [
    "##Write a function filter_long_words() that takes a list of words and an integer n and returns the list of words that are longer than n. "
   ]
  },
  {
   "cell_type": "code",
   "execution_count": 96,
   "metadata": {},
   "outputs": [
    {
     "name": "stdout",
     "output_type": "stream",
     "text": [
      "['Servicenow', 'Marketing']\n"
     ]
    }
   ],
   "source": [
    "def filter_long_words(list_of_words, n):\n",
    "    return filter(lambda i : True if len(i) > n  else False, list_of_words)\n",
    "\n",
    "words=[\"BPM\", \"Servicenow\", \"Marketing\",\"Java\"]\n",
    "n=8\n",
    "print(list(filter_long_words(words, n)))"
   ]
  },
  {
   "cell_type": "code",
   "execution_count": 97,
   "metadata": {},
   "outputs": [],
   "source": [
    "#Write a Python program using function concept that maps list of words into a list of integers representing the lengths of the corresponding words​. \n",
    " #Hint: If a list [ ab,cde,erty] is passed on to the python function output should come as [2,3,4] \n",
    " #Here 2,3 and 4 are the lengths of the words in the list. "
   ]
  },
  {
   "cell_type": "code",
   "execution_count": 105,
   "metadata": {},
   "outputs": [
    {
     "name": "stdout",
     "output_type": "stream",
     "text": [
      "Result : \n",
      "[3, 10, 9, 4]\n",
      "[3, 10, 9, 4]\n"
     ]
    }
   ],
   "source": [
    "#1\n",
    "words=[\"BPM\", \"Servicenow\", \"Marketing\",\"Java\"]\n",
    "c=[len(j) for j in words]\n",
    "print(\"Result : \")\n",
    "print(c)\n",
    "\n",
    "#2\n",
    "def mymap(word_list):\n",
    "    return list(map(lambda i : len(i), word_list))\n",
    "\n",
    "words=[\"BPM\", \"Servicenow\", \"Marketing\",\"Java\"]\n",
    "print(mymap(words))\n"
   ]
  },
  {
   "cell_type": "code",
   "execution_count": null,
   "metadata": {},
   "outputs": [],
   "source": []
  }
 ],
 "metadata": {
  "kernelspec": {
   "display_name": "Python 3",
   "language": "python",
   "name": "python3"
  },
  "language_info": {
   "codemirror_mode": {
    "name": "ipython",
    "version": 3
   },
   "file_extension": ".py",
   "mimetype": "text/x-python",
   "name": "python",
   "nbconvert_exporter": "python",
   "pygments_lexer": "ipython3",
   "version": "3.7.4"
  }
 },
 "nbformat": 4,
 "nbformat_minor": 2
}
