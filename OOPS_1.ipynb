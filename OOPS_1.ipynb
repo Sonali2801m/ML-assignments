{
 "cells": [
  {
   "cell_type": "code",
   "execution_count": 5,
   "metadata": {},
   "outputs": [
    {
     "name": "stdout",
     "output_type": "stream",
     "text": [
      "Class A\n",
      "Class B\n"
     ]
    }
   ],
   "source": [
    "#Write Class 'a', 'b' and 'c'. Class 'a' and 'b' should have method with the same name. 'c' Class should be inherited from Class 'a' and 'b'. \n",
    "#Instantiate Class 'c' and call the function of Class 'a' and Class 'b'.\n"
   ]
  },
  {
   "cell_type": "code",
   "execution_count": 6,
   "metadata": {},
   "outputs": [
    {
     "name": "stdout",
     "output_type": "stream",
     "text": [
      "Class A\n",
      "Class B\n"
     ]
    }
   ],
   "source": [
    "class A():\n",
    "    def test(self):\n",
    "        print(\"Class A\")\n",
    "\n",
    "class B():\n",
    "    def test(self):\n",
    "        print(\"Class B\")\n",
    "        \n",
    "class C(A,B):\n",
    "    def test(self):\n",
    "        A.test(self)\n",
    "        B.test(self)\n",
    "        \n",
    "ct=C()\n",
    "ct.test()"
   ]
  },
  {
   "cell_type": "code",
   "execution_count": null,
   "metadata": {},
   "outputs": [],
   "source": []
  }
 ],
 "metadata": {
  "kernelspec": {
   "display_name": "Python 3",
   "language": "python",
   "name": "python3"
  },
  "language_info": {
   "codemirror_mode": {
    "name": "ipython",
    "version": 3
   },
   "file_extension": ".py",
   "mimetype": "text/x-python",
   "name": "python",
   "nbconvert_exporter": "python",
   "pygments_lexer": "ipython3",
   "version": "3.7.4"
  }
 },
 "nbformat": 4,
 "nbformat_minor": 2
}
