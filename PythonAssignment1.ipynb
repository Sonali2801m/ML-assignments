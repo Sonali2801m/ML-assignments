{
 "cells": [
  {
   "cell_type": "code",
   "execution_count": 1,
   "metadata": {},
   "outputs": [],
   "source": [
    "##Task _ 1\n",
    "## Que_ 1\n",
    "#Install Jupyter notebook and run the first program and share the screenshot of the output. "
   ]
  },
  {
   "cell_type": "code",
   "execution_count": 9,
   "metadata": {},
   "outputs": [
    {
     "name": "stdout",
     "output_type": "stream",
     "text": [
      "Hello World\n"
     ]
    }
   ],
   "source": [
    "print(\"Hello World\")"
   ]
  },
  {
   "cell_type": "code",
   "execution_count": null,
   "metadata": {},
   "outputs": [],
   "source": [
    "###Que2\n",
    "### Write a program which will find all such numbers which are divisible by 7 but are not a multiple of 5, between 2000 and 3200 (both included). The numbers obtained should be printed in a comma-separated sequence on a single line"
   ]
  },
  {
   "cell_type": "code",
   "execution_count": 7,
   "metadata": {},
   "outputs": [
    {
     "name": "stdout",
     "output_type": "stream",
     "text": [
      "[2002, 2009, 2016, 2023, 2037, 2044, 2051, 2058, 2072, 2079, 2086, 2093, 2107, 2114, 2121, 2128, 2142, 2149, 2156, 2163, 2177, 2184, 2191, 2198, 2212, 2219, 2226, 2233, 2247, 2254, 2261, 2268, 2282, 2289, 2296, 2303, 2317, 2324, 2331, 2338, 2352, 2359, 2366, 2373, 2387, 2394, 2401, 2408, 2422, 2429, 2436, 2443, 2457, 2464, 2471, 2478, 2492, 2499, 2506, 2513, 2527, 2534, 2541, 2548, 2562, 2569, 2576, 2583, 2597, 2604, 2611, 2618, 2632, 2639, 2646, 2653, 2667, 2674, 2681, 2688, 2702, 2709, 2716, 2723, 2737, 2744, 2751, 2758, 2772, 2779, 2786, 2793, 2807, 2814, 2821, 2828, 2842, 2849, 2856, 2863, 2877, 2884, 2891, 2898, 2912, 2919, 2926, 2933, 2947, 2954, 2961, 2968, 2982, 2989, 2996, 3003, 3017, 3024, 3031, 3038, 3052, 3059, 3066, 3073, 3087, 3094, 3101, 3108, 3122, 3129, 3136, 3143, 3157, 3164, 3171, 3178, 3192, 3199]\n"
     ]
    }
   ],
   "source": [
    "list=[]\n",
    "for i in range(2000,3201):\n",
    "    if i%7==0 and i%5!=0:\n",
    "        #print(i)\n",
    "        list.append(i)\n",
    "print(list)\n",
    "\n",
    "\n"
   ]
  },
  {
   "cell_type": "code",
   "execution_count": 8,
   "metadata": {},
   "outputs": [],
   "source": [
    "###Que_3 \n",
    "### Write a Python program to accept the user's first and last name and then getting them printed in the the reverse order with a space between first name and last name. "
   ]
  },
  {
   "cell_type": "code",
   "execution_count": 14,
   "metadata": {},
   "outputs": [
    {
     "name": "stdout",
     "output_type": "stream",
     "text": [
      "Enter first name: Sonali\n",
      "Enter last name: Pathak\n",
      "Pathak Sonali\n"
     ]
    }
   ],
   "source": [
    "fname=input(\"Enter first name: \")\n",
    "lname=input(\"Enter last name: \")\n",
    "print(lname+\" \"+fname)"
   ]
  },
  {
   "cell_type": "code",
   "execution_count": 12,
   "metadata": {},
   "outputs": [],
   "source": [
    "###Que 4\n",
    "###Write a Python program to find the volume of a sphere with diameter 12 cm.  \n",
    " \n",
    "### Formula: V=4/3 * π * r 3 "
   ]
  },
  {
   "cell_type": "code",
   "execution_count": 13,
   "metadata": {},
   "outputs": [
    {
     "name": "stdout",
     "output_type": "stream",
     "text": [
      "905.142857142857\n"
     ]
    }
   ],
   "source": [
    "d=12\n",
    "r=d/2\n",
    "v=(4/3)*(22/7)*(r*r*r)\n",
    "print(v)"
   ]
  },
  {
   "cell_type": "code",
   "execution_count": 14,
   "metadata": {},
   "outputs": [],
   "source": [
    "###Task _ 2\n",
    "###Que 1\n",
    "###Write a program which accepts a sequence of comma-separated numbers from console and generate a list. "
   ]
  },
  {
   "cell_type": "code",
   "execution_count": 8,
   "metadata": {},
   "outputs": [
    {
     "name": "stdout",
     "output_type": "stream",
     "text": [
      "1,5,7,33\n",
      "[1, 5, 7, 33]\n"
     ]
    }
   ],
   "source": [
    "s=input()\n",
    "mlist= s.split(\",\")\n",
    "ml=[]\n",
    "for i in mlist:\n",
    "    ml.append(int(i))\n",
    "print(ml)"
   ]
  },
  {
   "cell_type": "code",
   "execution_count": null,
   "metadata": {},
   "outputs": [],
   "source": [
    "###Task _ 2\n",
    "###Que 2\n",
    "###Create the below pattern using nested for loop in Python.\n"
   ]
  },
  {
   "cell_type": "code",
   "execution_count": 52,
   "metadata": {},
   "outputs": [
    {
     "name": "stdout",
     "output_type": "stream",
     "text": [
      "\n",
      "* \n",
      "* * \n",
      "* * * \n",
      "* * * * \n",
      "* * * * * \n",
      "* * * * \n",
      "* * * \n",
      "* * \n",
      "* \n"
     ]
    }
   ],
   "source": [
    "x=5\n",
    "for i in range(x):\n",
    "    for j in range(i):\n",
    "        print('*',end=\" \")\n",
    "    print('')\n",
    "for i in range(x,0,-1):\n",
    "    for j in range(i):\n",
    "        print('*',end=\" \")\n",
    "    print('')"
   ]
  },
  {
   "cell_type": "code",
   "execution_count": 21,
   "metadata": {},
   "outputs": [],
   "source": [
    "###Task _ 2\n",
    "###Que 3\n",
    "###Write a Python program to reverse a word after accepting the input from the user. \n",
    "##Sample Output: \n",
    "##Input word: AcadGild  \n",
    "##Output: dilGdacA "
   ]
  },
  {
   "cell_type": "code",
   "execution_count": 41,
   "metadata": {},
   "outputs": [
    {
     "name": "stdout",
     "output_type": "stream",
     "text": [
      "AcadGild\n",
      "dliGdacA\n"
     ]
    }
   ],
   "source": [
    "word='AcadGild'\n",
    "print(word)\n",
    "word='AcadGild'[::-1]\n",
    "print(word)"
   ]
  },
  {
   "cell_type": "code",
   "execution_count": 42,
   "metadata": {},
   "outputs": [],
   "source": [
    "###Task _ 2\n",
    "###Que 4\n",
    "###Write a Python Program to print the given string in the format specified in the sample output\n",
    "#WE, THE PEOPLE OF INDIA,   \n",
    "#         having solemnly resolved to constitute India into a SOVEREIGN, !  \n",
    "#              SOCIALIST, SECULAR, DEMOCRATIC REPUBLIC    and to secure to all its citizens "
   ]
  },
  {
   "cell_type": "code",
   "execution_count": 4,
   "metadata": {
    "scrolled": true
   },
   "outputs": [
    {
     "name": "stdout",
     "output_type": "stream",
     "text": [
      "Input Sample: WE, THE PEOPLE OF INDIA, having solemnly resolved to constitute India into a SOVEREIGN, SOCIALIST, SECULAR, DEMOCRATIC REPUBLIC and to secure to all its citizens\n",
      "Output Sample:  \n",
      "WE, THE PEOPLE OF INDIA,\n",
      "\thaving solemnly resolved to constitute India into a SOVEREIGN, !\n",
      "\t\tSOCIALIST, SECULAR, DEMOCRATIC REPUBLIC \n",
      "\t\tand to secure to all its citizens \n"
     ]
    }
   ],
   "source": [
    "inputsample ='WE, THE PEOPLE OF INDIA, having solemnly resolved to constitute India into a SOVEREIGN, SOCIALIST, SECULAR, DEMOCRATIC REPUBLIC and to secure to all its citizens'\n",
    "print(\"Input Sample: \"+inputsample)\n",
    "\n",
    "isample='WE, THE PEOPLE OF INDIA,{0}{1}having solemnly resolved to constitute India into a SOVEREIGN, {2}{0}{1}{1}SOCIALIST, SECULAR, DEMOCRATIC REPUBLIC {0}{1}{1}and to secure to all its citizens '\n",
    "op=isample.format(\"\\n\",\"\\t\",\"!\")\n",
    "print(\"Output Sample:  \")\n",
    "print(op)"
   ]
  },
  {
   "cell_type": "code",
   "execution_count": null,
   "metadata": {},
   "outputs": [],
   "source": []
  }
 ],
 "metadata": {
  "kernelspec": {
   "display_name": "Python 3",
   "language": "python",
   "name": "python3"
  },
  "language_info": {
   "codemirror_mode": {
    "name": "ipython",
    "version": 3
   },
   "file_extension": ".py",
   "mimetype": "text/x-python",
   "name": "python",
   "nbconvert_exporter": "python",
   "pygments_lexer": "ipython3",
   "version": "3.7.4"
  }
 },
 "nbformat": 4,
 "nbformat_minor": 2
}
